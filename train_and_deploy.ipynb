{
 "cells": [
  {
   "cell_type": "code",
   "execution_count": 2,
   "id": "443c2066-04ba-40a0-937b-5aa6a877177a",
   "metadata": {
    "tags": []
   },
   "outputs": [],
   "source": [
    "import boto3\n",
    "import os\n",
    "import matplotlib.pyplot as plt\n",
    "import numpy as np\n",
    "import sagemaker\n",
    "from sagemaker import get_execution_role\n",
    "from sagemaker.pytorch import PyTorch , PyTorchModel , PyTorchPredictor\n",
    "from sagemaker.inputs import TrainingInput\n",
    "from sagemaker.debugger import (Rule , \n",
    "                                rule_configs , \n",
    "                                ProfilerConfig ,\n",
    "                                ProfilerRule ,\n",
    "                                DebuggerHookConfig ,\n",
    "                                FrameworkProfile ,\n",
    "                               )\n",
    "from sagemaker.predictor import Predictor"
   ]
  },
  {
   "cell_type": "code",
   "execution_count": 3,
   "id": "6b52d64a-ed4f-4c5f-8d8f-9c855acd1025",
   "metadata": {
    "tags": []
   },
   "outputs": [],
   "source": [
    "rule = get_execution_role()\n",
    "train_s3_path = \"s3://sagemaker-us-east-1-644236161621/train/\"\n",
    "valid_s3_path = \"s3://sagemaker-us-east-1-644236161621/valid/\"\n",
    "train_input = TrainingInput(s3_data=train_s3_path)\n",
    "valid_input = TrainingInput(s3_data=valid_s3_path)"
   ]
  },
  {
   "cell_type": "code",
   "execution_count": 4,
   "id": "0b30c3bd-d1c0-425e-8863-8cd9b528e24b",
   "metadata": {
    "tags": []
   },
   "outputs": [],
   "source": [
    "rules = [Rule.sagemaker(rule_configs.vanishing_gradient()),\n",
    "         Rule.sagemaker(rule_configs.overtraining()),\n",
    "         Rule.sagemaker(rule_configs.overfit()),\n",
    "         Rule.sagemaker(rule_configs.class_imbalance()),\n",
    "         ProfilerRule.sagemaker(rule_configs.CPUBottleneck()),\n",
    "         ProfilerRule.sagemaker(rule_configs.ProfilerReport())]\n",
    "profiler_config = ProfilerConfig(\n",
    "    system_monitor_interval_millis=500, framework_profile_params=FrameworkProfile(num_steps=10)\n",
    ")\n",
    "hook_config = DebuggerHookConfig(\n",
    "    hook_parameters={\"train.save_interval\": \"3\", \"eval.save_interval\": \"5\"}\n",
    ")"
   ]
  },
  {
   "cell_type": "code",
   "execution_count": 19,
   "id": "b1f39359-f4ba-4691-9188-0b221b619d24",
   "metadata": {
    "tags": []
   },
   "outputs": [
    {
     "name": "stdout",
     "output_type": "stream",
     "text": [
      "2022-12-16 12:19:32 Starting - Starting the training job...\n",
      "2022-12-16 12:19:55 Starting - Preparing the instances for trainingProfilerReport-1671193172: InProgress\n",
      ".....................\n",
      "2022-12-16 12:23:16 Downloading - Downloading input data...\n",
      "2022-12-16 12:24:01 Training - Training image download completed. Training in progress..\u001b[34mbash: cannot set terminal process group (-1): Inappropriate ioctl for device\u001b[0m\n",
      "\u001b[34mbash: no job control in this shell\u001b[0m\n",
      "\u001b[34m2022-12-16 12:24:04,047 sagemaker-training-toolkit INFO     Imported framework sagemaker_pytorch_container.training\u001b[0m\n",
      "\u001b[34m2022-12-16 12:24:04,070 sagemaker-training-toolkit INFO     No Neurons detected (normal if no neurons installed)\u001b[0m\n",
      "\u001b[34m2022-12-16 12:24:04,083 sagemaker_pytorch_container.training INFO     Block until all host DNS lookups succeed.\u001b[0m\n",
      "\u001b[34m2022-12-16 12:24:04,088 sagemaker_pytorch_container.training INFO     Invoking user training script.\u001b[0m\n",
      "\u001b[34m2022-12-16 12:24:04,342 sagemaker-training-toolkit INFO     No Neurons detected (normal if no neurons installed)\u001b[0m\n",
      "\u001b[34m2022-12-16 12:24:04,377 sagemaker-training-toolkit INFO     No Neurons detected (normal if no neurons installed)\u001b[0m\n",
      "\u001b[34m2022-12-16 12:24:04,417 sagemaker-training-toolkit INFO     No Neurons detected (normal if no neurons installed)\u001b[0m\n",
      "\u001b[34m2022-12-16 12:24:04,431 sagemaker-training-toolkit INFO     Invoking user script\u001b[0m\n",
      "\u001b[34mTraining Env:\u001b[0m\n",
      "\u001b[34m{\n",
      "    \"additional_framework_parameters\": {},\n",
      "    \"channel_input_dirs\": {\n",
      "        \"train\": \"/opt/ml/input/data/train\",\n",
      "        \"valid\": \"/opt/ml/input/data/valid\"\n",
      "    },\n",
      "    \"current_host\": \"algo-1\",\n",
      "    \"current_instance_group\": \"homogeneousCluster\",\n",
      "    \"current_instance_group_hosts\": [\n",
      "        \"algo-1\"\n",
      "    ],\n",
      "    \"current_instance_type\": \"ml.g4dn.xlarge\",\n",
      "    \"distribution_hosts\": [],\n",
      "    \"distribution_instance_groups\": [],\n",
      "    \"framework_module\": \"sagemaker_pytorch_container.training:main\",\n",
      "    \"hosts\": [\n",
      "        \"algo-1\"\n",
      "    ],\n",
      "    \"hyperparameters\": {},\n",
      "    \"input_config_dir\": \"/opt/ml/input/config\",\n",
      "    \"input_data_config\": {\n",
      "        \"train\": {\n",
      "            \"TrainingInputMode\": \"File\",\n",
      "            \"S3DistributionType\": \"FullyReplicated\",\n",
      "            \"RecordWrapperType\": \"None\"\n",
      "        },\n",
      "        \"valid\": {\n",
      "            \"TrainingInputMode\": \"File\",\n",
      "            \"S3DistributionType\": \"FullyReplicated\",\n",
      "            \"RecordWrapperType\": \"None\"\n",
      "        }\n",
      "    },\n",
      "    \"input_dir\": \"/opt/ml/input\",\n",
      "    \"instance_groups\": [\n",
      "        \"homogeneousCluster\"\n",
      "    ],\n",
      "    \"instance_groups_dict\": {\n",
      "        \"homogeneousCluster\": {\n",
      "            \"instance_group_name\": \"homogeneousCluster\",\n",
      "            \"instance_type\": \"ml.g4dn.xlarge\",\n",
      "            \"hosts\": [\n",
      "                \"algo-1\"\n",
      "            ]\n",
      "        }\n",
      "    },\n",
      "    \"is_hetero\": false,\n",
      "    \"is_master\": true,\n",
      "    \"is_modelparallel_enabled\": null,\n",
      "    \"is_smddpmprun_installed\": true,\n",
      "    \"job_name\": \"pytorch-training-2022-12-16-12-19-31-997\",\n",
      "    \"log_level\": 20,\n",
      "    \"master_hostname\": \"algo-1\",\n",
      "    \"model_dir\": \"/opt/ml/model\",\n",
      "    \"module_dir\": \"s3://sagemaker-us-east-1-644236161621/pytorch-training-2022-12-16-12-19-31-997/source/sourcedir.tar.gz\",\n",
      "    \"module_name\": \"train\",\n",
      "    \"network_interface_name\": \"eth0\",\n",
      "    \"num_cpus\": 4,\n",
      "    \"num_gpus\": 1,\n",
      "    \"num_neurons\": 0,\n",
      "    \"output_data_dir\": \"/opt/ml/output/data\",\n",
      "    \"output_dir\": \"/opt/ml/output\",\n",
      "    \"output_intermediate_dir\": \"/opt/ml/output/intermediate\",\n",
      "    \"resource_config\": {\n",
      "        \"current_host\": \"algo-1\",\n",
      "        \"current_instance_type\": \"ml.g4dn.xlarge\",\n",
      "        \"current_group_name\": \"homogeneousCluster\",\n",
      "        \"hosts\": [\n",
      "            \"algo-1\"\n",
      "        ],\n",
      "        \"instance_groups\": [\n",
      "            {\n",
      "                \"instance_group_name\": \"homogeneousCluster\",\n",
      "                \"instance_type\": \"ml.g4dn.xlarge\",\n",
      "                \"hosts\": [\n",
      "                    \"algo-1\"\n",
      "                ]\n",
      "            }\n",
      "        ],\n",
      "        \"network_interface_name\": \"eth0\"\n",
      "    },\n",
      "    \"user_entry_point\": \"train.py\"\u001b[0m\n",
      "\u001b[34m}\u001b[0m\n",
      "\u001b[34mEnvironment variables:\u001b[0m\n",
      "\u001b[34mSM_HOSTS=[\"algo-1\"]\u001b[0m\n",
      "\u001b[34mSM_NETWORK_INTERFACE_NAME=eth0\u001b[0m\n",
      "\u001b[34mSM_HPS={}\u001b[0m\n",
      "\u001b[34mSM_USER_ENTRY_POINT=train.py\u001b[0m\n",
      "\u001b[34mSM_FRAMEWORK_PARAMS={}\u001b[0m\n",
      "\u001b[34mSM_RESOURCE_CONFIG={\"current_group_name\":\"homogeneousCluster\",\"current_host\":\"algo-1\",\"current_instance_type\":\"ml.g4dn.xlarge\",\"hosts\":[\"algo-1\"],\"instance_groups\":[{\"hosts\":[\"algo-1\"],\"instance_group_name\":\"homogeneousCluster\",\"instance_type\":\"ml.g4dn.xlarge\"}],\"network_interface_name\":\"eth0\"}\u001b[0m\n",
      "\u001b[34mSM_INPUT_DATA_CONFIG={\"train\":{\"RecordWrapperType\":\"None\",\"S3DistributionType\":\"FullyReplicated\",\"TrainingInputMode\":\"File\"},\"valid\":{\"RecordWrapperType\":\"None\",\"S3DistributionType\":\"FullyReplicated\",\"TrainingInputMode\":\"File\"}}\u001b[0m\n",
      "\u001b[34mSM_OUTPUT_DATA_DIR=/opt/ml/output/data\u001b[0m\n",
      "\u001b[34mSM_CHANNELS=[\"train\",\"valid\"]\u001b[0m\n",
      "\u001b[34mSM_CURRENT_HOST=algo-1\u001b[0m\n",
      "\u001b[34mSM_CURRENT_INSTANCE_TYPE=ml.g4dn.xlarge\u001b[0m\n",
      "\u001b[34mSM_CURRENT_INSTANCE_GROUP=homogeneousCluster\u001b[0m\n",
      "\u001b[34mSM_CURRENT_INSTANCE_GROUP_HOSTS=[\"algo-1\"]\u001b[0m\n",
      "\u001b[34mSM_INSTANCE_GROUPS=[\"homogeneousCluster\"]\u001b[0m\n",
      "\u001b[34mSM_INSTANCE_GROUPS_DICT={\"homogeneousCluster\":{\"hosts\":[\"algo-1\"],\"instance_group_name\":\"homogeneousCluster\",\"instance_type\":\"ml.g4dn.xlarge\"}}\u001b[0m\n",
      "\u001b[34mSM_DISTRIBUTION_INSTANCE_GROUPS=[]\u001b[0m\n",
      "\u001b[34mSM_IS_HETERO=false\u001b[0m\n",
      "\u001b[34mSM_MODULE_NAME=train\u001b[0m\n",
      "\u001b[34mSM_LOG_LEVEL=20\u001b[0m\n",
      "\u001b[34mSM_FRAMEWORK_MODULE=sagemaker_pytorch_container.training:main\u001b[0m\n",
      "\u001b[34mSM_INPUT_DIR=/opt/ml/input\u001b[0m\n",
      "\u001b[34mSM_INPUT_CONFIG_DIR=/opt/ml/input/config\u001b[0m\n",
      "\u001b[34mSM_OUTPUT_DIR=/opt/ml/output\u001b[0m\n",
      "\u001b[34mSM_NUM_CPUS=4\u001b[0m\n",
      "\u001b[34mSM_NUM_GPUS=1\u001b[0m\n",
      "\u001b[34mSM_NUM_NEURONS=0\u001b[0m\n",
      "\u001b[34mSM_MODEL_DIR=/opt/ml/model\u001b[0m\n",
      "\u001b[34mSM_MODULE_DIR=s3://sagemaker-us-east-1-644236161621/pytorch-training-2022-12-16-12-19-31-997/source/sourcedir.tar.gz\u001b[0m\n",
      "\u001b[34mSM_TRAINING_ENV={\"additional_framework_parameters\":{},\"channel_input_dirs\":{\"train\":\"/opt/ml/input/data/train\",\"valid\":\"/opt/ml/input/data/valid\"},\"current_host\":\"algo-1\",\"current_instance_group\":\"homogeneousCluster\",\"current_instance_group_hosts\":[\"algo-1\"],\"current_instance_type\":\"ml.g4dn.xlarge\",\"distribution_hosts\":[],\"distribution_instance_groups\":[],\"framework_module\":\"sagemaker_pytorch_container.training:main\",\"hosts\":[\"algo-1\"],\"hyperparameters\":{},\"input_config_dir\":\"/opt/ml/input/config\",\"input_data_config\":{\"train\":{\"RecordWrapperType\":\"None\",\"S3DistributionType\":\"FullyReplicated\",\"TrainingInputMode\":\"File\"},\"valid\":{\"RecordWrapperType\":\"None\",\"S3DistributionType\":\"FullyReplicated\",\"TrainingInputMode\":\"File\"}},\"input_dir\":\"/opt/ml/input\",\"instance_groups\":[\"homogeneousCluster\"],\"instance_groups_dict\":{\"homogeneousCluster\":{\"hosts\":[\"algo-1\"],\"instance_group_name\":\"homogeneousCluster\",\"instance_type\":\"ml.g4dn.xlarge\"}},\"is_hetero\":false,\"is_master\":true,\"is_modelparallel_enabled\":null,\"is_smddpmprun_installed\":true,\"job_name\":\"pytorch-training-2022-12-16-12-19-31-997\",\"log_level\":20,\"master_hostname\":\"algo-1\",\"model_dir\":\"/opt/ml/model\",\"module_dir\":\"s3://sagemaker-us-east-1-644236161621/pytorch-training-2022-12-16-12-19-31-997/source/sourcedir.tar.gz\",\"module_name\":\"train\",\"network_interface_name\":\"eth0\",\"num_cpus\":4,\"num_gpus\":1,\"num_neurons\":0,\"output_data_dir\":\"/opt/ml/output/data\",\"output_dir\":\"/opt/ml/output\",\"output_intermediate_dir\":\"/opt/ml/output/intermediate\",\"resource_config\":{\"current_group_name\":\"homogeneousCluster\",\"current_host\":\"algo-1\",\"current_instance_type\":\"ml.g4dn.xlarge\",\"hosts\":[\"algo-1\"],\"instance_groups\":[{\"hosts\":[\"algo-1\"],\"instance_group_name\":\"homogeneousCluster\",\"instance_type\":\"ml.g4dn.xlarge\"}],\"network_interface_name\":\"eth0\"},\"user_entry_point\":\"train.py\"}\u001b[0m\n",
      "\u001b[34mSM_USER_ARGS=[]\u001b[0m\n",
      "\u001b[34mSM_OUTPUT_INTERMEDIATE_DIR=/opt/ml/output/intermediate\u001b[0m\n",
      "\u001b[34mSM_CHANNEL_TRAIN=/opt/ml/input/data/train\u001b[0m\n",
      "\u001b[34mSM_CHANNEL_VALID=/opt/ml/input/data/valid\u001b[0m\n",
      "\u001b[34mPYTHONPATH=/opt/ml/code:/opt/conda/bin:/opt/conda/lib/python38.zip:/opt/conda/lib/python3.8:/opt/conda/lib/python3.8/lib-dynload:/opt/conda/lib/python3.8/site-packages:/opt/conda/lib/python3.8/site-packages/smdebug-1.0.22b20221214-py3.8.egg:/opt/conda/lib/python3.8/site-packages/pyinstrument-3.4.2-py3.8.egg:/opt/conda/lib/python3.8/site-packages/pyinstrument_cext-0.2.4-py3.8-linux-x86_64.egg:/opt/conda/lib/python3.8/site-packages/flash_attn-0.1-py3.8-linux-x86_64.egg:/opt/conda/lib/python3.8/site-packages/einops-0.6.0-py3.8.egg\u001b[0m\n",
      "\u001b[34mInvoking script with the following command:\u001b[0m\n",
      "\u001b[34m/opt/conda/bin/python3.8 train.py\u001b[0m\n",
      "\u001b[34m2022-12-16 12:24:06,994 sagemaker-training-toolkit INFO     Exceptions not imported for SageMaker TF as Tensorflow is not installed.\u001b[0m\n",
      "\u001b[34m[2022-12-16 12:24:10.462 algo-1:47 INFO utils.py:27] RULE_JOB_STOP_SIGNAL_FILENAME: None\u001b[0m\n",
      "\u001b[34m[2022-12-16 12:24:10.609 algo-1:47 INFO profiler_config_parser.py:111] Using config at /opt/ml/input/config/profilerconfig.json.\u001b[0m\n",
      "\u001b[34mDownloading: \"https://download.pytorch.org/models/resnet50-11ad3fa6.pth\" to /root/.cache/torch/hub/checkpoints/resnet50-11ad3fa6.pth\u001b[0m\n",
      "\u001b[34m0%|          | 0.00/97.8M [00:00<?, ?B/s]\u001b[0m\n",
      "\u001b[34m9%|▉         | 8.77M/97.8M [00:00<00:01, 91.9MB/s]\u001b[0m\n",
      "\u001b[34m18%|█▊        | 18.0M/97.8M [00:00<00:00, 94.6MB/s]\u001b[0m\n",
      "\u001b[34m28%|██▊       | 27.1M/97.8M [00:00<00:00, 95.3MB/s]\u001b[0m\n",
      "\u001b[34m37%|███▋      | 36.2M/97.8M [00:00<00:00, 95.3MB/s]\u001b[0m\n",
      "\u001b[34m46%|████▋     | 45.3M/97.8M [00:00<00:00, 95.3MB/s]\u001b[0m\n",
      "\u001b[34m56%|█████▌    | 54.4M/97.8M [00:00<00:00, 95.3MB/s]\u001b[0m\n",
      "\u001b[34m65%|██████▌   | 63.8M/97.8M [00:00<00:00, 96.0MB/s]\u001b[0m\n",
      "\u001b[34m75%|███████▍  | 72.9M/97.8M [00:00<00:00, 96.1MB/s]\u001b[0m\n",
      "\u001b[34m84%|████████▍ | 82.2M/97.8M [00:00<00:00, 96.5MB/s]\u001b[0m\n",
      "\u001b[34m94%|█████████▎| 91.7M/97.8M [00:01<00:00, 97.2MB/s]\u001b[0m\n",
      "\u001b[34m100%|██████████| 97.8M/97.8M [00:01<00:00, 96.0MB/s]\u001b[0m\n",
      "\u001b[34m[2022-12-16 12:24:12.537 algo-1:47 INFO json_config.py:91] Creating hook from json_config at /opt/ml/input/config/debughookconfig.json.\u001b[0m\n",
      "\u001b[34m[2022-12-16 12:24:12.539 algo-1:47 INFO hook.py:201] tensorboard_dir has not been set for the hook. SMDebug will not be exporting tensorboard summaries.\u001b[0m\n",
      "\u001b[34m[2022-12-16 12:24:12.540 algo-1:47 INFO hook.py:254] Saving to /opt/ml/output/tensors\u001b[0m\n",
      "\u001b[34m[2022-12-16 12:24:12.540 algo-1:47 INFO state_store.py:77] The checkpoint config file /opt/ml/input/config/checkpointconfig.json does not exist.\u001b[0m\n",
      "\u001b[34m[2022-12-16 12:24:12.609 algo-1:47 INFO hook.py:561] name:fc.1.weight count_params:2048\u001b[0m\n",
      "\u001b[34m[2022-12-16 12:24:12.609 algo-1:47 INFO hook.py:561] name:fc.1.bias count_params:2048\u001b[0m\n",
      "\u001b[34m[2022-12-16 12:24:12.610 algo-1:47 INFO hook.py:561] name:fc.2.weight count_params:8192\u001b[0m\n",
      "\u001b[34m[2022-12-16 12:24:12.610 algo-1:47 INFO hook.py:561] name:fc.2.bias count_params:4\u001b[0m\n",
      "\u001b[34m[2022-12-16 12:24:12.610 algo-1:47 INFO hook.py:563] Total Trainable Params: 12292\u001b[0m\n",
      "\u001b[34mcuda is the device that used\u001b[0m\n",
      "\u001b[34mData start loading...\u001b[0m\n",
      "\u001b[34mData is loaded\u001b[0m\n",
      "\u001b[34mEpoch 1 training...\u001b[0m\n",
      "\u001b[34m[2022-12-16 12:24:16.022 algo-1:47 INFO hook.py:421] Monitoring the collections: losses\u001b[0m\n",
      "\u001b[34m[2022-12-16 12:24:16.024 algo-1:47 INFO python_profiler.py:188] Dumping cProfile stats to /opt/ml/output/profiler/framework/pytorch/cprofile/47-algo-1/prestepzero-*-start-1671193450610791.8_train-0-stepstart-1671193456023893.5/python_stats.\u001b[0m\n",
      "\u001b[34m[2022-12-16 12:24:16.036 algo-1:47 WARNING hook.py:393] The detailed profiling using autograd profiler is not supported for torch version 1.12.1+cu113\u001b[0m\n",
      "\u001b[34m[2022-12-16 12:24:16.037 algo-1:47 INFO hook.py:485] Hook is writing from the hook with pid: 47\u001b[0m\n",
      "\u001b[34m[2022-12-16 12:24:17.817 algo-1:47 INFO python_profiler.py:188] Dumping cProfile stats to /opt/ml/output/profiler/framework/pytorch/cprofile/47-algo-1/train-0-stepstart-1671193456035153.0_train-0-forwardpassend-1671193457816867.0/python_stats.\u001b[0m\n",
      "\u001b[34m[2022-12-16 12:24:18.268 algo-1:47 INFO python_profiler.py:188] Dumping cProfile stats to /opt/ml/output/profiler/framework/pytorch/cprofile/47-algo-1/train-0-forwardpassend-1671193457819234.5_train-1-stepstart-1671193458267445.8/python_stats.\u001b[0m\n",
      "\u001b[34m[2022-12-16 12:24:18.272 algo-1:47 WARNING hook.py:393] The detailed profiling using autograd profiler is not supported for torch version 1.12.1+cu113\u001b[0m\n",
      "\u001b[34m[2022-12-16 12:24:18.328 algo-1:47 INFO python_profiler.py:188] Dumping cProfile stats to /opt/ml/output/profiler/framework/pytorch/cprofile/47-algo-1/train-1-stepstart-1671193458272311.2_train-1-forwardpassend-1671193458327729.0/python_stats.\u001b[0m\n",
      "\u001b[34m[2022-12-16 12:24:19.581 algo-1:47 INFO python_profiler.py:188] Dumping cProfile stats to /opt/ml/output/profiler/framework/pytorch/cprofile/47-algo-1/train-1-forwardpassend-1671193458329889.5_train-2-stepstart-1671193459581259.2/python_stats.\u001b[0m\n",
      "\u001b[34m[2022-12-16 12:24:19.587 algo-1:47 WARNING hook.py:393] The detailed profiling using autograd profiler is not supported for torch version 1.12.1+cu113\u001b[0m\n",
      "\u001b[34m[2022-12-16 12:24:19.636 algo-1:47 INFO python_profiler.py:188] Dumping cProfile stats to /opt/ml/output/profiler/framework/pytorch/cprofile/47-algo-1/train-2-stepstart-1671193459587233.2_train-2-forwardpassend-1671193459635755.2/python_stats.\u001b[0m\n",
      "\u001b[34m[2022-12-16 12:24:20.171 algo-1:47 INFO python_profiler.py:188] Dumping cProfile stats to /opt/ml/output/profiler/framework/pytorch/cprofile/47-algo-1/train-2-forwardpassend-1671193459637760.5_train-3-stepstart-1671193460171121.5/python_stats.\u001b[0m\n",
      "\u001b[34m[2022-12-16 12:24:20.258 algo-1:47 INFO python_profiler.py:188] Dumping cProfile stats to /opt/ml/output/profiler/framework/pytorch/cprofile/47-algo-1/train-3-stepstart-1671193460173609.5_train-3-forwardpassend-1671193460258241.0/python_stats.\u001b[0m\n",
      "\u001b[34m[2022-12-16 12:24:21.363 algo-1:47 INFO python_profiler.py:188] Dumping cProfile stats to /opt/ml/output/profiler/framework/pytorch/cprofile/47-algo-1/train-3-forwardpassend-1671193460260354.2_train-4-stepstart-1671193461363302.8/python_stats.\u001b[0m\n",
      "\u001b[34m[2022-12-16 12:24:21.413 algo-1:47 INFO python_profiler.py:188] Dumping cProfile stats to /opt/ml/output/profiler/framework/pytorch/cprofile/47-algo-1/train-4-stepstart-1671193461366798.2_train-4-forwardpassend-1671193461412715.5/python_stats.\u001b[0m\n",
      "\u001b[34m[2022-12-16 12:24:21.945 algo-1:47 INFO python_profiler.py:188] Dumping cProfile stats to /opt/ml/output/profiler/framework/pytorch/cprofile/47-algo-1/train-4-forwardpassend-1671193461414339.5_train-5-stepstart-1671193461945181.2/python_stats.\u001b[0m\n",
      "\u001b[34m[2022-12-16 12:24:21.992 algo-1:47 INFO python_profiler.py:188] Dumping cProfile stats to /opt/ml/output/profiler/framework/pytorch/cprofile/47-algo-1/train-5-stepstart-1671193461947505.2_train-5-forwardpassend-1671193461991693.0/python_stats.\u001b[0m\n",
      "\u001b[34m[2022-12-16 12:24:23.161 algo-1:47 INFO python_profiler.py:188] Dumping cProfile stats to /opt/ml/output/profiler/framework/pytorch/cprofile/47-algo-1/train-5-forwardpassend-1671193461993266.0_train-6-stepstart-1671193463161264.2/python_stats.\u001b[0m\n",
      "\u001b[34m[2022-12-16 12:24:23.239 algo-1:47 INFO python_profiler.py:188] Dumping cProfile stats to /opt/ml/output/profiler/framework/pytorch/cprofile/47-algo-1/train-6-stepstart-1671193463164830.8_train-6-forwardpassend-1671193463238878.8/python_stats.\u001b[0m\n",
      "\u001b[34m[2022-12-16 12:24:23.771 algo-1:47 INFO python_profiler.py:188] Dumping cProfile stats to /opt/ml/output/profiler/framework/pytorch/cprofile/47-algo-1/train-6-forwardpassend-1671193463240811.2_train-7-stepstart-1671193463770695.0/python_stats.\u001b[0m\n",
      "\u001b[34m[2022-12-16 12:24:23.820 algo-1:47 INFO python_profiler.py:188] Dumping cProfile stats to /opt/ml/output/profiler/framework/pytorch/cprofile/47-algo-1/train-7-stepstart-1671193463774192.0_train-7-forwardpassend-1671193463820371.2/python_stats.\u001b[0m\n",
      "\u001b[34m[2022-12-16 12:24:25.019 algo-1:47 INFO python_profiler.py:188] Dumping cProfile stats to /opt/ml/output/profiler/framework/pytorch/cprofile/47-algo-1/train-7-forwardpassend-1671193463821906.8_train-8-stepstart-1671193465018817.0/python_stats.\u001b[0m\n",
      "\u001b[34m[2022-12-16 12:24:25.068 algo-1:47 INFO python_profiler.py:188] Dumping cProfile stats to /opt/ml/output/profiler/framework/pytorch/cprofile/47-algo-1/train-8-stepstart-1671193465022439.2_train-8-forwardpassend-1671193465068517.5/python_stats.\u001b[0m\n",
      "\u001b[34m[2022-12-16 12:24:25.606 algo-1:47 INFO python_profiler.py:188] Dumping cProfile stats to /opt/ml/output/profiler/framework/pytorch/cprofile/47-algo-1/train-8-forwardpassend-1671193465070263.2_train-9-stepstart-1671193465605586.8/python_stats.\u001b[0m\n",
      "\u001b[34m[2022-12-16 12:24:25.680 algo-1:47 INFO python_profiler.py:188] Dumping cProfile stats to /opt/ml/output/profiler/framework/pytorch/cprofile/47-algo-1/train-9-stepstart-1671193465608095.0_train-9-forwardpassend-1671193465679678.5/python_stats.\u001b[0m\n",
      "\u001b[34m[2022-12-16 12:24:26.908 algo-1:47 INFO python_profiler.py:188] Dumping cProfile stats to /opt/ml/output/profiler/framework/pytorch/cprofile/47-algo-1/train-9-forwardpassend-1671193465681643.5_train-10-stepstart-1671193466907760.5/python_stats.\u001b[0m\n",
      "\u001b[34mEpoch 1 Train Loss : 60.402 Train Acc : 0.25 Valid Loss : 1.37 Valid Acc :0.32\u001b[0m\n",
      "\u001b[34mEpoch 2 training...\u001b[0m\n",
      "\u001b[34mEpoch 2 Train Loss : 60.143 Train Acc : 0.32 Valid Loss : 1.40 Valid Acc :0.32\u001b[0m\n",
      "\u001b[34mEpoch 3 training...\u001b[0m\n",
      "\u001b[34mEpoch 3 Train Loss : 59.983 Train Acc : 0.30 Valid Loss : 1.55 Valid Acc :0.32\u001b[0m\n",
      "\u001b[34mEpoch 4 training...\u001b[0m\n",
      "\u001b[34mEpoch 4 Train Loss : 59.899 Train Acc : 0.31 Valid Loss : 1.68 Valid Acc :0.35\u001b[0m\n",
      "\u001b[34mEpoch 5 training...\u001b[0m\n",
      "\u001b[34mEpoch 5 Train Loss : 59.830 Train Acc : 0.31 Valid Loss : 1.59 Valid Acc :0.30\u001b[0m\n",
      "\u001b[34mEpoch 6 training...\u001b[0m\n",
      "\u001b[34mEpoch 6 Train Loss : 59.763 Train Acc : 0.38 Valid Loss : 1.55 Valid Acc :0.32\u001b[0m\n",
      "\u001b[34mEpoch 7 training...\u001b[0m\n",
      "\u001b[34mEpoch 7 Train Loss : 59.719 Train Acc : 0.56 Valid Loss : 1.53 Valid Acc :0.31\u001b[0m\n",
      "\u001b[34mEpoch 8 training...\u001b[0m\n",
      "\u001b[34mEpoch 8 Train Loss : 59.677 Train Acc : 0.76 Valid Loss : 1.55 Valid Acc :0.30\u001b[0m\n",
      "\u001b[34mEpoch 9 training...\u001b[0m\n",
      "\u001b[34mEpoch 9 Train Loss : 59.594 Train Acc : 0.84 Valid Loss : 1.60 Valid Acc :0.28\u001b[0m\n",
      "\u001b[34mEpoch 10 training...\u001b[0m\n",
      "\u001b[34mEpoch 10 Train Loss : 59.578 Train Acc : 0.86 Valid Loss : 1.61 Valid Acc :0.33\u001b[0m\n",
      "\u001b[34mEpoch 11 training...\u001b[0m\n",
      "\u001b[34mEpoch 11 Train Loss : 59.573 Train Acc : 0.87 Valid Loss : 1.64 Valid Acc :0.31\u001b[0m\n",
      "\u001b[34mEpoch 12 training...\u001b[0m\n",
      "\u001b[34mEpoch 12 Train Loss : 59.555 Train Acc : 0.88 Valid Loss : 1.66 Valid Acc :0.34\u001b[0m\n",
      "\u001b[34mEpoch 13 training...\u001b[0m\n",
      "\u001b[34mEpoch 13 Train Loss : 59.521 Train Acc : 0.90 Valid Loss : 1.69 Valid Acc :0.32\u001b[0m\n",
      "\u001b[34mEpoch 14 training...\u001b[0m\n",
      "\u001b[34mEpoch 14 Train Loss : 59.465 Train Acc : 0.90 Valid Loss : 1.73 Valid Acc :0.34\u001b[0m\n",
      "\u001b[34mEpoch 15 training...\u001b[0m\n",
      "\u001b[34mEpoch 15 Train Loss : 59.448 Train Acc : 0.91 Valid Loss : 1.71 Valid Acc :0.31\u001b[0m\n",
      "\u001b[34mEpoch 16 training...\u001b[0m\n",
      "\u001b[34mEpoch 16 Train Loss : 59.418 Train Acc : 0.92 Valid Loss : 1.72 Valid Acc :0.31\u001b[0m\n",
      "\u001b[34mEpoch 17 training...\u001b[0m\n",
      "\u001b[34mEpoch 17 Train Loss : 59.424 Train Acc : 0.93 Valid Loss : 1.75 Valid Acc :0.32\u001b[0m\n",
      "\u001b[34mEpoch 18 training...\u001b[0m\n",
      "\u001b[34mEpoch 18 Train Loss : 59.424 Train Acc : 0.92 Valid Loss : 1.77 Valid Acc :0.32\u001b[0m\n",
      "\u001b[34mEpoch 19 training...\u001b[0m\n",
      "\u001b[34mEpoch 19 Train Loss : 59.361 Train Acc : 0.93 Valid Loss : 1.76 Valid Acc :0.31\u001b[0m\n",
      "\u001b[34mEpoch 20 training...\u001b[0m\n",
      "\u001b[34mEpoch 20 Train Loss : 59.388 Train Acc : 0.93 Valid Loss : 1.77 Valid Acc :0.33\u001b[0m\n",
      "\u001b[34mEpoch 21 training...\u001b[0m\n",
      "\u001b[34mEpoch 21 Train Loss : 59.374 Train Acc : 0.94 Valid Loss : 1.85 Valid Acc :0.34\u001b[0m\n",
      "\u001b[34mEpoch 22 training...\u001b[0m\n",
      "\u001b[34mEpoch 22 Train Loss : 59.344 Train Acc : 0.95 Valid Loss : 1.84 Valid Acc :0.33\u001b[0m\n",
      "\u001b[34mEpoch 23 training...\u001b[0m\n",
      "\u001b[34mEpoch 23 Train Loss : 59.360 Train Acc : 0.95 Valid Loss : 1.87 Valid Acc :0.34\u001b[0m\n",
      "\u001b[34mEpoch 24 training...\u001b[0m\n",
      "\u001b[34mEpoch 24 Train Loss : 59.308 Train Acc : 0.96 Valid Loss : 1.87 Valid Acc :0.32\u001b[0m\n",
      "\u001b[34mEpoch 25 training...\u001b[0m\n",
      "\u001b[34mEpoch 25 Train Loss : 59.331 Train Acc : 0.96 Valid Loss : 1.87 Valid Acc :0.35\u001b[0m\n",
      "\u001b[34mEpoch 26 training...\u001b[0m\n",
      "\u001b[34mEpoch 26 Train Loss : 59.304 Train Acc : 0.96 Valid Loss : 1.91 Valid Acc :0.31\u001b[0m\n",
      "\u001b[34mEpoch 27 training...\u001b[0m\n",
      "\u001b[34mEpoch 27 Train Loss : 59.316 Train Acc : 0.96 Valid Loss : 1.92 Valid Acc :0.32\u001b[0m\n",
      "\u001b[34mEpoch 28 training...\u001b[0m\n",
      "\u001b[34mEpoch 28 Train Loss : 59.301 Train Acc : 0.96 Valid Loss : 1.96 Valid Acc :0.30\u001b[0m\n",
      "\u001b[34mEpoch 29 training...\u001b[0m\n",
      "\u001b[34mEpoch 29 Train Loss : 59.265 Train Acc : 0.96 Valid Loss : 1.97 Valid Acc :0.31\u001b[0m\n",
      "\u001b[34mEpoch 30 training...\u001b[0m\n",
      "\u001b[34mEpoch 30 Train Loss : 59.285 Train Acc : 0.96 Valid Loss : 1.99 Valid Acc :0.34\u001b[0m\n",
      "\u001b[34mEpoch 31 training...\u001b[0m\n",
      "\u001b[34mEpoch 31 Train Loss : 59.272 Train Acc : 0.97 Valid Loss : 2.00 Valid Acc :0.30\u001b[0m\n",
      "\u001b[34mEpoch 32 training...\u001b[0m\n",
      "\u001b[34mEpoch 32 Train Loss : 59.245 Train Acc : 0.97 Valid Loss : 2.07 Valid Acc :0.32\u001b[0m\n",
      "\u001b[34mEpoch 33 training...\u001b[0m\n",
      "\u001b[34mEpoch 33 Train Loss : 59.302 Train Acc : 0.97 Valid Loss : 2.08 Valid Acc :0.31\u001b[0m\n",
      "\u001b[34mEpoch 34 training...\u001b[0m\n",
      "\u001b[34mEpoch 34 Train Loss : 59.251 Train Acc : 0.97 Valid Loss : 2.10 Valid Acc :0.31\u001b[0m\n",
      "\u001b[34mEpoch 35 training...\u001b[0m\n",
      "\u001b[34mEpoch 35 Train Loss : 59.293 Train Acc : 0.97 Valid Loss : 2.11 Valid Acc :0.32\u001b[0m\n",
      "\u001b[34mEpoch 36 training...\u001b[0m\n",
      "\u001b[34mEpoch 36 Train Loss : 59.244 Train Acc : 0.98 Valid Loss : 2.10 Valid Acc :0.32\u001b[0m\n",
      "\u001b[34mEpoch 37 training...\u001b[0m\n",
      "\u001b[34mEpoch 37 Train Loss : 59.242 Train Acc : 0.97 Valid Loss : 2.11 Valid Acc :0.32\u001b[0m\n",
      "\u001b[34mEpoch 38 training...\u001b[0m\n",
      "\u001b[34mEpoch 38 Train Loss : 59.262 Train Acc : 0.97 Valid Loss : 2.14 Valid Acc :0.31\u001b[0m\n",
      "\u001b[34mEpoch 39 training...\u001b[0m\n",
      "\u001b[34mEpoch 39 Train Loss : 59.225 Train Acc : 0.98 Valid Loss : 2.14 Valid Acc :0.34\u001b[0m\n",
      "\u001b[34mEpoch 40 training...\u001b[0m\n",
      "\u001b[34mEpoch 40 Train Loss : 59.204 Train Acc : 0.98 Valid Loss : 2.18 Valid Acc :0.31\u001b[0m\n",
      "\u001b[34mEpoch 41 training...\u001b[0m\n",
      "\u001b[34mEpoch 41 Train Loss : 59.188 Train Acc : 0.98 Valid Loss : 2.14 Valid Acc :0.33\u001b[0m\n",
      "\u001b[34mEpoch 42 training...\u001b[0m\n",
      "\u001b[34mEpoch 42 Train Loss : 59.222 Train Acc : 0.97 Valid Loss : 2.16 Valid Acc :0.31\u001b[0m\n",
      "\u001b[34mEpoch 43 training...\u001b[0m\n",
      "\u001b[34mEpoch 43 Train Loss : 59.203 Train Acc : 0.97 Valid Loss : 2.20 Valid Acc :0.32\u001b[0m\n",
      "\u001b[34mEpoch 44 training...\u001b[0m\n",
      "\u001b[34mEpoch 44 Train Loss : 59.202 Train Acc : 0.97 Valid Loss : 2.19 Valid Acc :0.32\u001b[0m\n",
      "\u001b[34mEpoch 45 training...\u001b[0m\n",
      "\u001b[34mEpoch 45 Train Loss : 59.232 Train Acc : 0.98 Valid Loss : 2.18 Valid Acc :0.35\u001b[0m\n",
      "\u001b[34mEpoch 46 training...\u001b[0m\n",
      "\u001b[34mEpoch 46 Train Loss : 59.183 Train Acc : 0.97 Valid Loss : 2.21 Valid Acc :0.35\u001b[0m\n",
      "\u001b[34mEpoch 47 training...\u001b[0m\n",
      "\u001b[34mEpoch 47 Train Loss : 59.195 Train Acc : 0.98 Valid Loss : 2.21 Valid Acc :0.35\u001b[0m\n",
      "\u001b[34mEpoch 48 training...\u001b[0m\n",
      "\u001b[34mEpoch 48 Train Loss : 59.197 Train Acc : 0.98 Valid Loss : 2.20 Valid Acc :0.34\u001b[0m\n",
      "\u001b[34mEpoch 49 training...\u001b[0m\n",
      "\u001b[34mEpoch 49 Train Loss : 59.187 Train Acc : 0.97 Valid Loss : 2.26 Valid Acc :0.30\u001b[0m\n",
      "\u001b[34mEpoch 50 training...\u001b[0m\n",
      "\u001b[34mEpoch 50 Train Loss : 59.187 Train Acc : 0.98 Valid Loss : 2.34 Valid Acc :0.32\u001b[0m\n",
      "\u001b[34mEpoch 51 training...\u001b[0m\n",
      "\u001b[34mEpoch 51 Train Loss : 59.166 Train Acc : 0.98 Valid Loss : 2.28 Valid Acc :0.35\u001b[0m\n",
      "\u001b[34mEpoch 52 training...\u001b[0m\n",
      "\u001b[34mEpoch 52 Train Loss : 59.193 Train Acc : 0.98 Valid Loss : 2.31 Valid Acc :0.35\u001b[0m\n",
      "\u001b[34mEpoch 53 training...\u001b[0m\n",
      "\u001b[34mEpoch 53 Train Loss : 59.184 Train Acc : 0.98 Valid Loss : 2.31 Valid Acc :0.34\u001b[0m\n",
      "\u001b[34mEpoch 54 training...\u001b[0m\n",
      "\u001b[34mEpoch 54 Train Loss : 59.168 Train Acc : 0.98 Valid Loss : 2.34 Valid Acc :0.31\u001b[0m\n",
      "\u001b[34mEpoch 55 training...\u001b[0m\n",
      "\u001b[34mEpoch 55 Train Loss : 59.169 Train Acc : 0.98 Valid Loss : 2.32 Valid Acc :0.32\u001b[0m\n",
      "\u001b[34mEpoch 56 training...\u001b[0m\n",
      "\u001b[34mEpoch 56 Train Loss : 59.185 Train Acc : 0.98 Valid Loss : 2.35 Valid Acc :0.32\u001b[0m\n",
      "\u001b[34mEpoch 57 training...\u001b[0m\n",
      "\u001b[34mEpoch 57 Train Loss : 59.199 Train Acc : 0.98 Valid Loss : 2.34 Valid Acc :0.36\u001b[0m\n",
      "\u001b[34mEpoch 58 training...\u001b[0m\n",
      "\u001b[34mEpoch 58 Train Loss : 59.143 Train Acc : 0.98 Valid Loss : 2.37 Valid Acc :0.33\u001b[0m\n",
      "\u001b[34mEpoch 59 training...\u001b[0m\n",
      "\u001b[34mEpoch 59 Train Loss : 59.188 Train Acc : 0.98 Valid Loss : 2.41 Valid Acc :0.34\u001b[0m\n",
      "\u001b[34mEpoch 60 training...\u001b[0m\n",
      "\u001b[34mEpoch 60 Train Loss : 59.182 Train Acc : 0.98 Valid Loss : 2.34 Valid Acc :0.36\u001b[0m\n",
      "\u001b[34m2022-12-16 12:55:07,242 sagemaker-training-toolkit INFO     Waiting for the process to finish and give a return code.\u001b[0m\n",
      "\u001b[34m2022-12-16 12:55:07,242 sagemaker-training-toolkit INFO     Done waiting for a return code. Received 0 from exiting process.\u001b[0m\n",
      "\u001b[34m2022-12-16 12:55:07,243 sagemaker-training-toolkit INFO     Reporting training SUCCESS\u001b[0m\n",
      "\n",
      "2022-12-16 12:55:24 Uploading - Uploading generated training model\n",
      "2022-12-16 12:55:44 Completed - Training job completed\n",
      "Training seconds: 1955\n",
      "Billable seconds: 1955\n"
     ]
    }
   ],
   "source": [
    "estimator  = PyTorch(entry_point=\"train.py\",\n",
    "                    role=get_execution_role(),\n",
    "                    instance_count=1,\n",
    "                    instance_type=\"ml.g4dn.xlarge\",\n",
    "                    framework_version=\"1.12\",\n",
    "                    py_version=\"py38\" ,\n",
    "                    ules=rules,\n",
    "                    debugger_hook_config=hook_config ,\n",
    "                    profiler_config=profiler_config)\n",
    "estimator.fit({\"train\":train_input , \"valid\":valid_input})"
   ]
  },
  {
   "cell_type": "code",
   "execution_count": 20,
   "id": "ab655931-b55e-4d46-8661-c6ea40e0f7e6",
   "metadata": {
    "tags": []
   },
   "outputs": [
    {
     "data": {
      "text/plain": [
       "'s3://sagemaker-us-east-1-644236161621/pytorch-training-2022-12-16-12-19-31-997/output/model.tar.gz'"
      ]
     },
     "execution_count": 20,
     "metadata": {},
     "output_type": "execute_result"
    }
   ],
   "source": [
    "estimator.model_data"
   ]
  },
  {
   "cell_type": "code",
   "execution_count": null,
   "id": "67723cd3-ec30-476e-8641-8954862a9365",
   "metadata": {
    "tags": []
   },
   "outputs": [],
   "source": []
  },
  {
   "cell_type": "code",
   "execution_count": null,
   "id": "4109d0c5-ee52-400d-9f8f-86d5e7f2c8b5",
   "metadata": {
    "tags": []
   },
   "outputs": [],
   "source": []
  },
  {
   "cell_type": "code",
   "execution_count": 5,
   "id": "204e451c-cf1f-4956-8961-c406930bdc42",
   "metadata": {
    "tags": []
   },
   "outputs": [],
   "source": [
    "from sagemaker.serializers import JSONSerializer, IdentitySerializer , NumpySerializer\n",
    "from sagemaker.deserializers import JSONDeserializer\n"
   ]
  },
  {
   "cell_type": "code",
   "execution_count": 34,
   "id": "7295d130-7590-45c5-9c8b-ce3f2e7d2636",
   "metadata": {
    "tags": []
   },
   "outputs": [
    {
     "data": {
      "text/plain": [
       "2"
      ]
     },
     "execution_count": 34,
     "metadata": {},
     "output_type": "execute_result"
    }
   ],
   "source": [
    "x = torch.rand(size=(1,4))\n",
    "x.argmax(dim=1).item()"
   ]
  },
  {
   "cell_type": "code",
   "execution_count": 6,
   "id": "10c4138d-f5fe-4a13-a430-354c5ffced3f",
   "metadata": {
    "tags": []
   },
   "outputs": [],
   "source": [
    "jpeg_serializer = sagemaker.serializers.IdentitySerializer(\"image/jpeg\")\n",
    "json_deserializer = sagemaker.deserializers.JSONDeserializer()"
   ]
  },
  {
   "cell_type": "code",
   "execution_count": 7,
   "id": "9167eff8-7b87-437c-943a-0910665f11f0",
   "metadata": {
    "tags": []
   },
   "outputs": [],
   "source": [
    "session = sagemaker.Session()\n",
    "endpoint_name = \"Weather-prediction-v6\"\n",
    "model_data = 's3://sagemaker-us-east-1-644236161621/pytorch-training-2022-12-16-12-19-31-997/output/model.tar.gz'#estimator.model_data\n",
    "role = sagemaker.get_execution_role()"
   ]
  },
  {
   "cell_type": "code",
   "execution_count": 11,
   "id": "76218ca1-de87-45f0-9e8b-809e73c5161c",
   "metadata": {
    "tags": []
   },
   "outputs": [],
   "source": [
    "class ImagePredictor(Predictor):\n",
    "    def __init__(self, endpoint_name, sagemaker_session):\n",
    "        super(ImagePredictor, self).__init__(\n",
    "            endpoint_name,\n",
    "            sagemaker_session=sagemaker_session,\n",
    "            serializer=jpeg_serializer,\n",
    "            deserializer=json_deserializer,\n",
    "        )"
   ]
  },
  {
   "cell_type": "code",
   "execution_count": 26,
   "id": "31598d5f-653c-4f75-84e6-b59559eac25a",
   "metadata": {
    "tags": []
   },
   "outputs": [],
   "source": [
    "model = PyTorchModel(model_data=model_data, role=role, entry_point='inference.py',py_version='py38',\n",
    "                             framework_version='1.12',\n",
    "                             predictor_cls=ImagePredictor)"
   ]
  },
  {
   "cell_type": "code",
   "execution_count": 27,
   "id": "e4f8124a-9aa6-40d6-af5e-2892d91b08d7",
   "metadata": {
    "tags": []
   },
   "outputs": [
    {
     "name": "stdout",
     "output_type": "stream",
     "text": [
      "------!"
     ]
    }
   ],
   "source": [
    "predictor = model.deploy(initial_instance_count=1, instance_type='ml.m5.large' , endpoint_name=endpoint_name)"
   ]
  },
  {
   "cell_type": "code",
   "execution_count": 32,
   "id": "307e8253-b6ac-48ca-9b86-d7fcb37dafb6",
   "metadata": {
    "tags": []
   },
   "outputs": [
    {
     "name": "stdout",
     "output_type": "stream",
     "text": [
      "------!"
     ]
    }
   ],
   "source": [
    "#anthor one for numpy serelizer \n",
    "endpoint_name = \"Weather-prediction-v9-numpy\"\n",
    "numpy_serelizer = NumpySerializer()\n",
    "class ImagePredictor(Predictor):\n",
    "    def __init__(self, endpoint_name, sagemaker_session):\n",
    "        super(ImagePredictor, self).__init__(\n",
    "            endpoint_name,\n",
    "            sagemaker_session=sagemaker_session,\n",
    "            serializer=numpy_serelizer,\n",
    "            deserializer=json_deserializer,\n",
    "        )\n",
    "model2 = PyTorchModel(model_data=model_data, role=role, entry_point='inference2.py',py_version='py38',\n",
    "                             framework_version='1.12',\n",
    "                             predictor_cls=ImagePredictor)  \n",
    "predictor2 = model2.deploy(initial_instance_count=1, instance_type='ml.m5.large' , endpoint_name=endpoint_name)"
   ]
  },
  {
   "cell_type": "code",
   "execution_count": 21,
   "id": "ed12b56c-dfaf-4a0e-bf81-63506321ff8b",
   "metadata": {
    "tags": []
   },
   "outputs": [
    {
     "data": {
      "text/plain": [
       "__main__.ImagePredictor"
      ]
     },
     "execution_count": 21,
     "metadata": {},
     "output_type": "execute_result"
    }
   ],
   "source": [
    "type(predictor2)"
   ]
  },
  {
   "cell_type": "code",
   "execution_count": 109,
   "id": "308fdd9f-c450-446d-9c39-ebcdc02cf198",
   "metadata": {
    "tags": []
   },
   "outputs": [
    {
     "name": "stdout",
     "output_type": "stream",
     "text": [
      "<class 'torch.Tensor'>\n"
     ]
    }
   ],
   "source": [
    "test_image =r\"train/cloudy1.jpg\"\n",
    "import io\n",
    "import PIL\n",
    "with open(test_image , \"rb\") as f:\n",
    "    image = f.read()\n",
    "    #print(isinstance(image.decode('utf-8') ,bytes))\n",
    "    image = PIL.Image.open(io.BytesIO(image))\n",
    "    image = torchvision.transforms.Compose([torchvision.transforms.Resize(200) ,\n",
    "                                            torchvision.transforms.ToTensor()])(image)\n",
    "    print(type(image))"
   ]
  },
  {
   "cell_type": "code",
   "execution_count": null,
   "id": "e4233f38-a832-491c-871a-1e68f451a5e4",
   "metadata": {},
   "outputs": [
    {
     "name": "stdout",
     "output_type": "stream",
     "text": [
      "{\"type\": \"sunrise\"}\n"
     ]
    }
   ],
   "source": [
    "test_image =r\"train/sunrise108.jpg\"\n",
    "with open(test_image , \"rb\") as f:\n",
    "    response =predictor.predict(f.read() , initial_args={\"ContentType\": \"image/jpeg\"})\n",
    "print(response)"
   ]
  },
  {
   "cell_type": "code",
   "execution_count": 16,
   "id": "aafa59ef-67d1-478e-8685-a5d809abce3a",
   "metadata": {
    "tags": []
   },
   "outputs": [],
   "source": [
    "test_image =r\"train/sunrise108.jpg\"\n",
    "import json\n",
    "import base64"
   ]
  },
  {
   "cell_type": "code",
   "execution_count": 17,
   "id": "4d1e73ef-f39b-4f6b-a978-5552782573d4",
   "metadata": {
    "tags": []
   },
   "outputs": [
    {
     "name": "stdout",
     "output_type": "stream",
     "text": [
      "<class 'bytes'>\n"
     ]
    }
   ],
   "source": [
    "with open(test_image , \"rb\") as f :\n",
    "    data = f.read()\n",
    "print(type(data))"
   ]
  },
  {
   "cell_type": "code",
   "execution_count": 18,
   "id": "11e21163-9148-41b4-b2bb-b90566d2c7b3",
   "metadata": {
    "tags": []
   },
   "outputs": [],
   "source": [
    "endpoint_name = \"Weather-prediction-v5\"\n",
    "import boto3\n",
    "runtime=boto3.Session().client('sagemaker-runtime')\n",
    "response=runtime.invoke_endpoint(EndpointName=endpoint_name,\n",
    "                                    ContentType=\"image/jpeg\",\n",
    "                                    Body=data)\n",
    "                                    "
   ]
  },
  {
   "cell_type": "code",
   "execution_count": 19,
   "id": "4b553349-861e-4830-b4a6-5b0756d4eb48",
   "metadata": {
    "tags": []
   },
   "outputs": [],
   "source": [
    "res = response['Body'].read().decode(\"utf-8\")"
   ]
  },
  {
   "cell_type": "code",
   "execution_count": 20,
   "id": "19947425-aba6-4e20-aba6-da50257143d3",
   "metadata": {
    "tags": []
   },
   "outputs": [],
   "source": [
    "out = json.loads(res)"
   ]
  },
  {
   "cell_type": "code",
   "execution_count": 21,
   "id": "2bca242f-4eca-4959-8631-7a75d1964298",
   "metadata": {
    "tags": []
   },
   "outputs": [
    {
     "data": {
      "text/plain": [
       "'sunrise'"
      ]
     },
     "execution_count": 21,
     "metadata": {},
     "output_type": "execute_result"
    }
   ],
   "source": [
    "json.loads(out)[\"type\"]"
   ]
  },
  {
   "cell_type": "code",
   "execution_count": null,
   "id": "b8df28aa-743c-4018-8027-bb2aa365ca89",
   "metadata": {
    "tags": []
   },
   "outputs": [],
   "source": []
  },
  {
   "cell_type": "code",
   "execution_count": 16,
   "id": "545df448-61ab-4b2e-a998-bd3fcacd2c38",
   "metadata": {
    "tags": []
   },
   "outputs": [
    {
     "data": {
      "text/plain": [
       "(151200,)"
      ]
     },
     "execution_count": 16,
     "metadata": {},
     "output_type": "execute_result"
    }
   ],
   "source": [
    "np.array(bytearray(data)).shape"
   ]
  },
  {
   "cell_type": "code",
   "execution_count": 33,
   "id": "b1961bff-8102-4e54-936b-9363c6356c41",
   "metadata": {
    "tags": []
   },
   "outputs": [
    {
     "name": "stdout",
     "output_type": "stream",
     "text": [
      "{\"type\": \"shine\"}\n"
     ]
    }
   ],
   "source": [
    "test_image =\"train/sunrise109.jpg\"\n",
    "data = plt.imread(test_image)\n",
    "response =predictor2.predict(bytearray(data) , initial_args={\"ContentType\": \"application/x-npy\"})\n",
    "print(response)"
   ]
  },
  {
   "cell_type": "code",
   "execution_count": null,
   "id": "9370edab-6d4d-43ec-af1d-e4642db9ccfa",
   "metadata": {
    "tags": []
   },
   "outputs": [],
   "source": []
  },
  {
   "cell_type": "code",
   "execution_count": null,
   "id": "1bd7dd15-1901-4196-88ce-724c680b415d",
   "metadata": {},
   "outputs": [],
   "source": []
  }
 ],
 "metadata": {
  "instance_type": "ml.t3.medium",
  "kernelspec": {
   "display_name": "Python 3 (PyTorch 1.12 Python 3.8 CPU Optimized)",
   "language": "python",
   "name": "python3__SAGEMAKER_INTERNAL__arn:aws:sagemaker:us-east-1:081325390199:image/pytorch-1.12-cpu-py38"
  },
  "language_info": {
   "codemirror_mode": {
    "name": "ipython",
    "version": 3
   },
   "file_extension": ".py",
   "mimetype": "text/x-python",
   "name": "python",
   "nbconvert_exporter": "python",
   "pygments_lexer": "ipython3",
   "version": "3.8.13"
  }
 },
 "nbformat": 4,
 "nbformat_minor": 5
}
